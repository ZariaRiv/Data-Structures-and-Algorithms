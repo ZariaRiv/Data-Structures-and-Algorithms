{
 "cells": [
  {
   "cell_type": "code",
   "execution_count": 1,
   "metadata": {},
   "outputs": [
    {
     "name": "stdin",
     "output_type": "stream",
     "text": [
      "how many rows? 5\n",
      "how many columns? 4\n"
     ]
    },
    {
     "name": "stdout",
     "output_type": "stream",
     "text": [
      "\n",
      "  4.0      5.0     13.0      4.0    \n",
      "  7.0      6.0     15.0      3.0    \n",
      "  3.0      7.0      0.0      8.0    \n",
      "  7.0      9.0      7.0      5.0    \n",
      " 14.0      8.0      1.0      7.0    \n",
      "\n",
      "[14.0, 7.0, 3.0, 7.0, 4.0] 14.0\n",
      "[9.0, 8.0] 9.0\n",
      "[7.0, 1.0, 0.0] 7.0\n",
      "[5.0, 7.0, 8.0] 8.0\n",
      "\n",
      "38.0\n"
     ]
    }
   ],
   "source": [
    "import numpy as np\n",
    "from random import randint\n",
    "path=0\n",
    "\n",
    "def display_board( b ):\n",
    "    for r in range( row ):\n",
    "        for c in range( col ):\n",
    "            print(\"{:^7} \".format(b[r][c]), end=\" \")\n",
    "        print()\n",
    "    print()\n",
    "\n",
    "row=int(input(\"how many rows?\"))\n",
    "col=int(input(\"how many columns?\"))\n",
    "\n",
    "\n",
    "#making matrix\n",
    "board=np.zeros((row, col))\n",
    "\n",
    "#filling matrix with RANDOM number\n",
    "for i in range ( row):\n",
    "    for j in range ( col):\n",
    "        board[i][j]=randint(0,15)\n",
    "\n",
    "#displaying matrix                                                 ( only for myself)\n",
    "print()        \n",
    "display_board( board )\n",
    "\n",
    "\n",
    "# finidng path \n",
    "for i in range(col):\n",
    "    column=[]\n",
    "    #first column, without any restrictions\n",
    "    if i ==0:\n",
    "        for j in range(row):\n",
    "            column+=[board[row-1 -j][i]]\n",
    "            \n",
    "    #any other column \n",
    "    else:\n",
    "        #if it is in the first row - can choose only to move right or right and down\n",
    "        if choos== board[0][i-1]:\n",
    "            column= [board[0][i], board[1][i]]\n",
    "\n",
    "         \n",
    "        #if it is in the last row - can choose only to move right or right andup\n",
    "        elif choos== board[row-1][i-1]:\n",
    "            column= [board[row-2][i], board[row-1][i]]\n",
    "\n",
    "        \n",
    "        #any other row can choose from right+up, right, right+down\n",
    "        else:\n",
    "            for j in range(row-1):\n",
    "                if choos==board[j][i-1]:                    \n",
    "                    column= [board[j][i], board[j+1][i],board[j-1][i]]\n",
    "\n",
    "    #helpful visualization of from what is it choosing and what it chooses              ( only for myself)\n",
    "    \n",
    "    choos=max(column)\n",
    "    path+=choos\n",
    "    print(column,choos)\n",
    "    \n",
    "#displaying output they asked for \n",
    "print()\n",
    "print(path)"
   ]
  },
  {
   "cell_type": "code",
   "execution_count": null,
   "metadata": {},
   "outputs": [],
   "source": []
  }
 ],
 "metadata": {
  "kernelspec": {
   "display_name": "Python 3",
   "language": "python",
   "name": "python3"
  },
  "language_info": {
   "codemirror_mode": {
    "name": "ipython",
    "version": 3
   },
   "file_extension": ".py",
   "mimetype": "text/x-python",
   "name": "python",
   "nbconvert_exporter": "python",
   "pygments_lexer": "ipython3",
   "version": "3.8.3"
  }
 },
 "nbformat": 4,
 "nbformat_minor": 4
}
