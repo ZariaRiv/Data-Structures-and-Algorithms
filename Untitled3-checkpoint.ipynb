{
 "cells": [
  {
   "cell_type": "code",
   "execution_count": 4,
   "metadata": {},
   "outputs": [
    {
     "name": "stdout",
     "output_type": "stream",
     "text": [
      "  4.0      7.0      2.0      9.0     11.0    \n",
      "  1.0      0.0      3.0      7.0      9.0    \n",
      "  2.0     12.0      5.0      7.0      8.0    \n",
      "  3.0     13.0      4.0      2.0      5.0    \n",
      "\n",
      "\n",
      "[[ 4. 11. 13. 27. 39.]\n",
      " [ 1.  4. 18. 28. 37.]\n",
      " [ 2. 15. 21. 28. 36.]\n",
      " [ 3. 16. 20. 23. 33.]]\n",
      "39\n"
     ]
    }
   ],
   "source": [
    "import numpy as np\n",
    "numlist=[]\n",
    "final=[]\n",
    "\n",
    "def display_board( b ):\n",
    "    for r in range( row ):\n",
    "        for c in range( col ):\n",
    "            print(\"{:^7} \".format(b[r][c]), end=\" \")\n",
    "        print()\n",
    "    print()\n",
    "\n",
    "\n",
    "with open(\"treasure.txt\") as fp:\n",
    "    lines = fp. read(). splitlines()\n",
    "    row=int(lines[0])\n",
    "    del lines[0]\n",
    "    col=int(lines[0])\n",
    "    del lines[0]\n",
    "    board=np.zeros((row, col))\n",
    "    r=0\n",
    "    for item in lines:\n",
    "            numlist=item.split(\" \")\n",
    "            for c in range (len(numlist)):\n",
    "                board[r][c]=numlist[c]\n",
    "            r+=1\n",
    "\n",
    "display_board( board )\n",
    "\n",
    "matrix=np.zeros((row, col))\n",
    "\n",
    "# finidng path \n",
    "for i in range(col):\n",
    "    option=[] \n",
    "    for j in range(row):\n",
    "        #copy first column \n",
    "        if i ==0:\n",
    "            matrix[j][i]=board[j][i]            \n",
    "            \n",
    "        #calculate any other column \n",
    "        else:\n",
    "            \n",
    "            #if it is in the first row - can reach from left+down or left\n",
    "            if j==0:\n",
    "                option= [matrix[j][i-1], matrix[j+1][i-1]]\n",
    "                matrix[j][i]=board[j][i]+max(option)\n",
    "                if i==(col-1):\n",
    "                    final.append(matrix[j][i])\n",
    "\n",
    "            #if it is in the last row - can reach from left+up or left\n",
    "            elif j==row-1:\n",
    "                option= [matrix[j-1][i-1], matrix[j][i-1]]\n",
    "                matrix[j][i]=board[j][i]+max(option)\n",
    "                if i==(col-1):\n",
    "                    final.append(matrix[j][i])\n",
    "        \n",
    "            #any other row can reach from left+up or left or left+down\n",
    "            else:     \n",
    "                option= [matrix[j-1][i-1], matrix[j][i-1], matrix[j+1][i-1]]\n",
    "                matrix[j][i]=board[j][i]+max(option)\n",
    "                if i==(col-1):\n",
    "                    final.append(matrix[j][i])\n",
    "                \n",
    " \n",
    "print()\n",
    "print(matrix)\n",
    "#print(final)\n",
    "#displaying output they asked for\n",
    "print(int(max(final)))"
   ]
  },
  {
   "cell_type": "code",
   "execution_count": null,
   "metadata": {},
   "outputs": [],
   "source": []
  }
 ],
 "metadata": {
  "kernelspec": {
   "display_name": "Python 3",
   "language": "python",
   "name": "python3"
  },
  "language_info": {
   "codemirror_mode": {
    "name": "ipython",
    "version": 3
   },
   "file_extension": ".py",
   "mimetype": "text/x-python",
   "name": "python",
   "nbconvert_exporter": "python",
   "pygments_lexer": "ipython3",
   "version": "3.8.3"
  }
 },
 "nbformat": 4,
 "nbformat_minor": 4
}
