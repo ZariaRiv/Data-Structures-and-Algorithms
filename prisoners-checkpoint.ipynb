{
 "cells": [
  {
   "cell_type": "code",
   "execution_count": 19,
   "metadata": {},
   "outputs": [
    {
     "name": "stdout",
     "output_type": "stream",
     "text": [
      "0.691 % chances of getting free\n"
     ]
    }
   ],
   "source": [
    "from random import randint\n",
    "      \n",
    "\n",
    "def prisoners(slownik):\n",
    "    koniec=len(slownik)\n",
    "    list_of_lists=[]\n",
    "    for i in range(1,koniec):\n",
    "        dlugosc=0\n",
    "        sequence=[]\n",
    "        \n",
    "        while True:\n",
    "            x=slownik[i]\n",
    "            #print(x)\n",
    "            if x in sequence:\n",
    "                #print(dlugosc)\n",
    "                if dlugosc not in list_of_lists:\n",
    "                    list_of_lists.append(dlugosc)\n",
    "                    #print(list_of_lists)\n",
    "                break\n",
    "            dlugosc+=1\n",
    "            \n",
    "            sequence.append(x)\n",
    "            \n",
    "            i=slownik[x]\n",
    "            #print(i)\n",
    "            if i in sequence:\n",
    "                #print(dlugosc)\n",
    "                if dlugosc not in list_of_lists:\n",
    "                    list_of_lists.append(dlugosc)\n",
    "                    #print(list_of_lists)\n",
    "                break\n",
    "            dlugosc+=1\n",
    "            \n",
    "            sequence.append(i) \n",
    "    \n",
    "    list_of_lists.sort()\n",
    "    return list_of_lists[-1]\n",
    "\n",
    "\n",
    "przypadki=[]\n",
    "for x in range(1000):                     #range is the number of trials    \n",
    "    some_dict={}\n",
    "    i=1\n",
    "    wartosci=list(range( 1, 101 ))\n",
    "\n",
    "    while i<=100:\n",
    "        granica=len(wartosci)\n",
    "        numer=randint(0,granica-1)\n",
    "        some_dict[i]=wartosci[numer]\n",
    "        del wartosci[numer]\n",
    "        i+=1\n",
    "    #print(some_dict)    \n",
    "    prisoners(some_dict)\n",
    "    przypadki.append(prisoners(some_dict))\n",
    "    #print(przypadki)\n",
    "\n",
    "\n",
    "succes=0\n",
    "for element in przypadki:\n",
    "    if element>50:\n",
    "        succes+=1\n",
    "print(succes/1000,\"% chances of getting free\")        # here it is also divided by the number of trials\n",
    "    "
   ]
  },
  {
   "cell_type": "code",
   "execution_count": 70,
   "metadata": {},
   "outputs": [
    {
     "name": "stdin",
     "output_type": "stream",
     "text": [
      "the longest path? ( 1, 40, 43,46,54,74,91,99,100) 46\n"
     ]
    },
    {
     "name": "stdout",
     "output_type": "stream",
     "text": [
      "{1: 26, 2: 31, 3: 80, 4: 78, 5: 83, 6: 44, 7: 58, 8: 20, 9: 17, 10: 15, 11: 72, 12: 27, 13: 95, 14: 36, 15: 70, 16: 91, 17: 55, 18: 4, 19: 76, 20: 57, 21: 34, 22: 52, 23: 67, 24: 12, 25: 16, 26: 68, 27: 65, 28: 40, 29: 7, 30: 18, 31: 37, 32: 50, 33: 64, 34: 45, 35: 61, 36: 32, 37: 85, 38: 9, 39: 41, 40: 82, 41: 22, 42: 94, 43: 89, 44: 42, 45: 84, 46: 51, 47: 1, 48: 21, 49: 88, 50: 74, 51: 92, 52: 2, 53: 29, 54: 87, 55: 99, 56: 49, 57: 71, 58: 39, 59: 23, 60: 38, 61: 30, 62: 19, 63: 73, 64: 54, 65: 28, 66: 96, 67: 46, 68: 56, 69: 24, 70: 13, 71: 25, 72: 69, 73: 81, 74: 48, 75: 98, 76: 77, 77: 5, 78: 43, 79: 100, 80: 3, 81: 75, 82: 62, 83: 60, 84: 59, 85: 97, 86: 6, 87: 93, 88: 47, 89: 79, 90: 66, 91: 33, 92: 11, 93: 10, 94: 53, 95: 8, 96: 14, 97: 86, 98: 90, 99: 63, 100: 35}\n"
     ]
    },
    {
     "data": {
      "text/plain": [
       "46"
      ]
     },
     "execution_count": 70,
     "metadata": {},
     "output_type": "execute_result"
    }
   ],
   "source": [
    "def prisoners(slownik):\n",
    "    koniec=len(slownik)\n",
    "    list_of_lists=[]\n",
    "    for i in range(1,koniec):\n",
    "        dlugosc=0\n",
    "        sequence=[]\n",
    "        \n",
    "        while True:\n",
    "            x=slownik[i]\n",
    "            #print(x)\n",
    "            if x in sequence:\n",
    "                #print(dlugosc)\n",
    "                if dlugosc not in list_of_lists:\n",
    "                    list_of_lists.append(dlugosc)\n",
    "                    #print(list_of_lists)\n",
    "                break\n",
    "            dlugosc+=1\n",
    "            \n",
    "            sequence.append(x)\n",
    "            \n",
    "            i=slownik[x]\n",
    "            #print(i)\n",
    "            if i in sequence:\n",
    "                #print(dlugosc)\n",
    "                if dlugosc not in list_of_lists:\n",
    "                    list_of_lists.append(dlugosc)\n",
    "                    #print(list_of_lists)\n",
    "                break\n",
    "            dlugosc+=1\n",
    "            \n",
    "            sequence.append(i) \n",
    "    \n",
    "    list_of_lists.sort()\n",
    "    return list_of_lists[-1]\n",
    "\n",
    "\n",
    "\n",
    "boxes={}\n",
    "i=0\n",
    "logest_path=input(\"the longest path? ( 1, 40, 43,46,54,74,91,99,100)\")\n",
    "with open( \"prisoners_\"+logest_path+\".txt\" )as fp:\n",
    "#with open( \"prisoners_40.txt\" )as fp:\n",
    "    while i<=100:\n",
    "        buffer = fp.readline()\n",
    "        if buffer == \"\":\n",
    "            break\n",
    "        ok=buffer.strip().split( ',' )\n",
    "        a=int(ok[0])\n",
    "        boxes[a]=int(ok[1])\n",
    "        i+=1\n",
    "\n",
    "#print(boxes)\n",
    "prisoners(boxes)"
   ]
  },
  {
   "cell_type": "code",
   "execution_count": null,
   "metadata": {},
   "outputs": [],
   "source": []
  }
 ],
 "metadata": {
  "kernelspec": {
   "display_name": "Python 3",
   "language": "python",
   "name": "python3"
  },
  "language_info": {
   "codemirror_mode": {
    "name": "ipython",
    "version": 3
   },
   "file_extension": ".py",
   "mimetype": "text/x-python",
   "name": "python",
   "nbconvert_exporter": "python",
   "pygments_lexer": "ipython3",
   "version": "3.8.3"
  }
 },
 "nbformat": 4,
 "nbformat_minor": 4
}
