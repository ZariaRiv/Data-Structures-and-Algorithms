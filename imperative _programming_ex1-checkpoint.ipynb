{
 "cells": [
  {
   "cell_type": "code",
   "execution_count": null,
   "metadata": {},
   "outputs": [],
   "source": [
    "#exercise 1"
   ]
  },
  {
   "cell_type": "code",
   "execution_count": null,
   "metadata": {},
   "outputs": [],
   "source": [
    "Write a program that asks for an input text file, an output text file, \n",
    "and an integer to use as column size (you can use a minimum of 10). \n",
    "Read the input text file, and format the text so that it uses no more words \n",
    "on each line than fit the column size, e.g., if the column size is 40,\n",
    "no more than 40 characters are used on each line \n",
    "(this includes punctuation and whitespaces, but excludes the newline character).\n",
    "Words are not \"broken off\" (if by chance the file contains a word longer than the column width, \n",
    "you may simply let that word “stick out”). Write the formatted text to the output text file.\n",
    "In the input text file, paragraphs are distinguished from each other by an empty line. \n",
    "In the output text file, you either do the same thing, or you simply go to a new line \n",
    "which you then start with four spaces (“indent”).For an extra challenge,\n",
    "try to insert spaces in a balanced way so that the column is justified\n",
    "(i.e., all lines are equally long, except for those that end a paragraph).\n",
    "Make sure that you can handle column sizes that are less than the maximum word length.\n",
    "An example input file that you can use to experiment with is the included file “jeeves.txt.” "
   ]
  },
  {
   "cell_type": "code",
   "execution_count": null,
   "metadata": {},
   "outputs": [],
   "source": [
    "file_name=input(\"What is the name of the file ou want to use? \")\n",
    "column_size = int(input(\"what would you like the column lenght to be?\"))\n",
    "\n",
    "wp = open( \"pc_writetest.tmp\", \"w\" )\n",
    "\n",
    "\n",
    "with open( \"pcdata/pc_\" + file_name+\".txt\" ) as fp:\n",
    "    while True:\n",
    "        buffer = fp.read()\n",
    "        count=0\n",
    "        for char in buffer:\n",
    "            count+=1\n",
    "            lastchar=char\n",
    "            if count>=column_size:\n",
    "                if char == \"\\n\" and lastchar==\"\\n\":\n",
    "                    wp.write(\"\\n\")\n",
    "                    wp.write(\"\\n\")\n",
    "                    count=0\n",
    "                elif char ==\"\\n\" and lastchar!=\"\\n\":\n",
    "                    count=0\n",
    "                    wp.write(\"\\n\")\n",
    "                elif char ==\" \":\n",
    "                    wp.write(\"\\n\")\n",
    "                    wp.write(\"\\n\")\n",
    "                    count=0\n",
    "                else:\n",
    "                    wp.write(char)\n",
    "                    continue\n",
    "            else:\n",
    "                if char == \"\\n\":\n",
    "                    wp.write(\" \")  \n",
    "                else:\n",
    "                    wp.write( char )\n",
    "                continue\n",
    "        if buffer==\"\":\n",
    "            break     \n",
    "            \n",
    "wp.close()\n",
    "\n",
    "fp = open( \"pc_writetest.tmp\" )\n",
    "print( fp.read() )\n",
    "fp.close()\n"
   ]
  },
  {
   "cell_type": "code",
   "execution_count": null,
   "metadata": {},
   "outputs": [],
   "source": []
  },
  {
   "cell_type": "code",
   "execution_count": null,
   "metadata": {},
   "outputs": [],
   "source": []
  },
  {
   "cell_type": "code",
   "execution_count": null,
   "metadata": {},
   "outputs": [],
   "source": []
  }
 ],
 "metadata": {
  "kernelspec": {
   "display_name": "Python 3",
   "language": "python",
   "name": "python3"
  },
  "language_info": {
   "codemirror_mode": {
    "name": "ipython",
    "version": 3
   },
   "file_extension": ".py",
   "mimetype": "text/x-python",
   "name": "python",
   "nbconvert_exporter": "python",
   "pygments_lexer": "ipython3",
   "version": "3.8.3"
  }
 },
 "nbformat": 4,
 "nbformat_minor": 4
}
